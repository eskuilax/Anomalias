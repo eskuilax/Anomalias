{
  "nbformat": 4,
  "nbformat_minor": 0,
  "metadata": {
    "colab": {
      "name": "Trabajo Final CGR Chile- S.Benavente fco.Parada.ipynb",
      "provenance": [],
      "collapsed_sections": [],
      "include_colab_link": true
    },
    "kernelspec": {
      "name": "python3",
      "display_name": "Python 3"
    },
    "language_info": {
      "name": "python"
    }
  },
  "cells": [
    {
      "cell_type": "markdown",
      "metadata": {
        "id": "view-in-github",
        "colab_type": "text"
      },
      "source": [
        "<a href=\"https://colab.research.google.com/github/eskuilax/Anomalias/blob/main/Trabajo_Final_CGR_Chile_S_Benavente_fco_Parada.ipynb\" target=\"_parent\"><img src=\"https://colab.research.google.com/assets/colab-badge.svg\" alt=\"Open In Colab\"/></a>"
      ]
    },
    {
      "cell_type": "code",
      "metadata": {
        "id": "znSXohnMV9kd"
      },
      "source": [
        "import os\n",
        "import pandas as pd\n",
        "import numpy as np\n",
        "from scipy import stats\n",
        "import matplotlib.pyplot as plt\n",
        "import seaborn as sns"
      ],
      "execution_count": 23,
      "outputs": []
    },
    {
      "cell_type": "code",
      "metadata": {
        "id": "6EzvYaR5WYa-"
      },
      "source": [
        "from sklearn import datasets\n",
        "from scipy.stats import t, zscore\n",
        "import random"
      ],
      "execution_count": 24,
      "outputs": []
    },
    {
      "cell_type": "code",
      "metadata": {
        "colab": {
          "base_uri": "https://localhost:8080/"
        },
        "id": "E6VBRbbaWmsY",
        "outputId": "8ffaa61f-8369-4363-92e4-7d1e78988124"
      },
      "source": [
        "np.random.seed(0)\n",
        "x = np.random.exponential(size = 1000)\n",
        "np.mean(x), np.var(x)"
      ],
      "execution_count": 25,
      "outputs": [
        {
          "output_type": "execute_result",
          "data": {
            "text/plain": [
              "(1.003540208760709, 1.0590341339276639)"
            ]
          },
          "metadata": {
            "tags": []
          },
          "execution_count": 25
        }
      ]
    },
    {
      "cell_type": "code",
      "metadata": {
        "id": "KwyRoM2-WsLo"
      },
      "source": [
        "y, fitted_lambda = stats.boxcox(x)"
      ],
      "execution_count": 26,
      "outputs": []
    },
    {
      "cell_type": "code",
      "metadata": {
        "colab": {
          "base_uri": "https://localhost:8080/",
          "height": 408
        },
        "id": "fYcViMlwW5is",
        "outputId": "8ff0f313-77b9-41ff-8409-667e2a6bd968"
      },
      "source": [
        "fig, ax = plt.subplots(1, 2)\n",
        "# graficando la variable en su manera original y luego de transformada\n",
        "sns.distplot(x, hist = False, kde = True,\n",
        "kde_kws = {'shade': True, 'linewidth': 2},\n",
        "label = \"Non-Normal\", color =\"green\", ax = ax[0])\n",
        "sns.distplot(y, hist = False, kde = True,\n",
        "kde_kws = {'shade': True, 'linewidth': 2},\n",
        "label = \"Normal\", color =\"green\", ax = ax[1])\n",
        "# Anadiendo leyenda a los gráficos\n",
        "plt.legend(loc = \"upper right\")\n",
        "# re-escalando los subplots\n",
        "fig.set_figheight(5)\n",
        "fig.set_figwidth(10)\n",
        "plt.show()"
      ],
      "execution_count": 27,
      "outputs": [
        {
          "output_type": "stream",
          "text": [
            "/usr/local/lib/python3.7/dist-packages/seaborn/distributions.py:2557: FutureWarning: `distplot` is a deprecated function and will be removed in a future version. Please adapt your code to use either `displot` (a figure-level function with similar flexibility) or `kdeplot` (an axes-level function for kernel density plots).\n",
            "  warnings.warn(msg, FutureWarning)\n",
            "/usr/local/lib/python3.7/dist-packages/seaborn/distributions.py:2557: FutureWarning: `distplot` is a deprecated function and will be removed in a future version. Please adapt your code to use either `displot` (a figure-level function with similar flexibility) or `kdeplot` (an axes-level function for kernel density plots).\n",
            "  warnings.warn(msg, FutureWarning)\n"
          ],
          "name": "stderr"
        },
        {
          "output_type": "display_data",
          "data": {
            "image/png": "[encoded data removed]",
            "text/plain": [
              "<Figure size 720x360 with 2 Axes>"
            ]
          },
          "metadata": {
            "tags": [],
            "needs_background": "light"
          }
        }
      ]
    },
    {
      "cell_type": "code",
      "metadata": {
        "colab": {
          "base_uri": "https://localhost:8080/",
          "height": 286
        },
        "id": "asBD7WRuXN5S",
        "outputId": "40daa81f-5640-411c-d06f-e3a4778ed4bb"
      },
      "source": [
        "fig, ax = plt.subplots(1, 1)\n",
        "print(f\"Lambda utilizado para la transformación: {fitted_lambda}\")"
      ],
      "execution_count": 28,
      "outputs": [
        {
          "output_type": "stream",
          "text": [
            "Lambda utilizado para la transformación: 0.2420131978174143\n"
          ],
          "name": "stdout"
        },
        {
          "output_type": "display_data",
          "data": {
            "image/png": "[encoded data removed]",
            "text/plain": [
              "<Figure size 432x288 with 1 Axes>"
            ]
          },
          "metadata": {
            "tags": [],
            "needs_background": "light"
          }
        }
      ]
    },
    {
      "cell_type": "markdown",
      "metadata": {
        "id": "jh9g9u_Iegjd"
      },
      "source": [
        "**1. a) El valor de lambda es:  0.2420131978174143**\n",
        "\n",
        "---\n",
        "\n"
      ]
    },
    {
      "cell_type": "code",
      "metadata": {
        "id": "FdY9Y0b-XXL5"
      },
      "source": [
        "def fivenum(x, range =  3, nan_remove = False):\n",
        "  \n",
        "  if(isinstance(x, list)):\n",
        "    x = np.array(x)\n",
        "  try:\n",
        "    np.sum(x)\n",
        "  except TypeError :\n",
        "    print('Error: debe proveer una lista o un arreglo de sólo números')\n",
        "  if(nan_remove == True):\n",
        "      y = x[~np.isnan(x)]\n",
        "      q1 = np.percentile(y, 25)\n",
        "      q3 = np.percentile(y,75)\n",
        "      md = np.median(y)\n",
        "      RI = q3-q1\n",
        "      lower_whisker = q1 - 1.5 * RI\n",
        "      upper_whisker = q3 + 1.5 * RI\n",
        "      lower_whisker = np.max([lower_whisker, np.min(y)])\n",
        "      upper_whisker = np.min([upper_whisker, np.max(y)])\n",
        "  else:\n",
        "      q1 = np.percentile(x, 25)\n",
        "      q3 = np.percentile(x,75)\n",
        "      md = np.median(x)\n",
        "      RI = q3-q1\n",
        "      lower_whisker = q1 - 1.5 * RI\n",
        "      upper_whisker = q3 + 1.5 * RI\n",
        "      lower_whisker = np.max([lower_whisker, np.min(x)])\n",
        "      upper_whisker = np.min([upper_whisker, np.max(x)])\n",
        "  salida = np.array([lower_whisker, q1, md, q3, upper_whisker])\n",
        "  return salida"
      ],
      "execution_count": 29,
      "outputs": []
    },
    {
      "cell_type": "code",
      "metadata": {
        "colab": {
          "base_uri": "https://localhost:8080/"
        },
        "id": "Rs9zseB1hOKo",
        "outputId": "41c4203e-5ce3-45a8-a567-a27f74a69b9c"
      },
      "source": [
        "iris = datasets.load_iris()\n",
        "iris_df = pd.DataFrame(iris.data, columns=iris.feature_names)\n",
        "iris_df['target'] = iris['target']\n",
        "iris_df.columns = ['sepal_length', 'sepal_width', 'petal_length',\n",
        "       'petal_width', 'species']\n",
        "\n",
        "fnums = fivenum(iris_df.sepal_width)\n",
        "fnums"
      ],
      "execution_count": 30,
      "outputs": [
        {
          "output_type": "execute_result",
          "data": {
            "text/plain": [
              "array([2.05, 2.8 , 3.  , 3.3 , 4.05])"
            ]
          },
          "metadata": {
            "tags": []
          },
          "execution_count": 30
        }
      ]
    },
    {
      "cell_type": "markdown",
      "metadata": {
        "id": "ZDwOfUd8lGFS"
      },
      "source": [
        "**1. b) El numero de valores extremos identificados es: [2.05, 2.8 , 3.  , 3.3 , 4.05]**"
      ]
    },
    {
      "cell_type": "code",
      "metadata": {
        "id": "959oRnQ2Y62z"
      },
      "source": [
        "regalias = pd.read_csv('regalias_viasterciarias.csv', index_col=0)"
      ],
      "execution_count": 31,
      "outputs": []
    },
    {
      "cell_type": "code",
      "metadata": {
        "id": "yyP7Y8ZMcWwI",
        "colab": {
          "base_uri": "https://localhost:8080/",
          "height": 411
        },
        "outputId": "6a42f391-3e28-4604-c53d-9a654bbad383"
      },
      "source": [
        "regalias.head()"
      ],
      "execution_count": 32,
      "outputs": [
        {
          "output_type": "execute_result",
          "data": {
            "text/html": [
              "<div>\n",
              "<style scoped>\n",
              "    .dataframe tbody tr th:only-of-type {\n",
              "        vertical-align: middle;\n",
              "    }\n",
              "\n",
              "    .dataframe tbody tr th {\n",
              "        vertical-align: top;\n",
              "    }\n",
              "\n",
              "    .dataframe thead th {\n",
              "        text-align: right;\n",
              "    }\n",
              "</style>\n",
              "<table border=\"1\" class=\"dataframe\">\n",
              "  <thead>\n",
              "    <tr style=\"text-align: right;\">\n",
              "      <th></th>\n",
              "      <th>id_proyecto</th>\n",
              "      <th>nombre_del_proyecto</th>\n",
              "      <th>nombre_ocad</th>\n",
              "      <th>region</th>\n",
              "      <th>departamento</th>\n",
              "      <th>sector_suifp</th>\n",
              "      <th>programa</th>\n",
              "      <th>subprograma</th>\n",
              "      <th>avance_fisico</th>\n",
              "      <th>avance_financiero</th>\n",
              "      <th>estado_detalle</th>\n",
              "      <th>estado_general</th>\n",
              "      <th>anno</th>\n",
              "      <th>valor_sgr</th>\n",
              "      <th>valor_nación</th>\n",
              "      <th>valor_otros</th>\n",
              "      <th>total_proyecto</th>\n",
              "      <th>pctg_sgr</th>\n",
              "    </tr>\n",
              "  </thead>\n",
              "  <tbody>\n",
              "    <tr>\n",
              "      <th>1</th>\n",
              "      <td>id_357417</td>\n",
              "      <td>CONSTRUCCIÓN DE PLACA HUELLA EN VÍAS TERCIARIA...</td>\n",
              "      <td>Región Eje Cafetero</td>\n",
              "      <td>Eje Cafetero</td>\n",
              "      <td>Antioquia</td>\n",
              "      <td>Transporte</td>\n",
              "      <td>Infraestructura Red Vial Regional</td>\n",
              "      <td>Red Vial Terciaria</td>\n",
              "      <td>100.0</td>\n",
              "      <td>100.00</td>\n",
              "      <td>Cerrado</td>\n",
              "      <td>Terminado</td>\n",
              "      <td>2017</td>\n",
              "      <td>1784417</td>\n",
              "      <td>0</td>\n",
              "      <td>0</td>\n",
              "      <td>1784417</td>\n",
              "      <td>100.0</td>\n",
              "    </tr>\n",
              "    <tr>\n",
              "      <th>2</th>\n",
              "      <td>id_357587</td>\n",
              "      <td>CONSTRUCCIÓN DE PLACA HUELLA EN VÍAS TERCIARIA...</td>\n",
              "      <td>Región Eje Cafetero</td>\n",
              "      <td>Eje Cafetero</td>\n",
              "      <td>Antioquia</td>\n",
              "      <td>Transporte</td>\n",
              "      <td>Infraestructura Red Vial Regional</td>\n",
              "      <td>Red Vial Terciaria</td>\n",
              "      <td>100.0</td>\n",
              "      <td>100.00</td>\n",
              "      <td>Cerrado</td>\n",
              "      <td>Terminado</td>\n",
              "      <td>2017</td>\n",
              "      <td>756224</td>\n",
              "      <td>0</td>\n",
              "      <td>0</td>\n",
              "      <td>756224</td>\n",
              "      <td>100.0</td>\n",
              "    </tr>\n",
              "    <tr>\n",
              "      <th>3</th>\n",
              "      <td>id_701595</td>\n",
              "      <td>MEJORAMIENTO DE VÍAS TERCIARIAS EN LOS MUNICIP...</td>\n",
              "      <td>Región Eje Cafetero</td>\n",
              "      <td>Eje Cafetero</td>\n",
              "      <td>Antioquia</td>\n",
              "      <td>Transporte</td>\n",
              "      <td>Infraestructura Red Vial Regional</td>\n",
              "      <td>Red Vial Terciaria</td>\n",
              "      <td>100.0</td>\n",
              "      <td>99.95</td>\n",
              "      <td>Cerrado</td>\n",
              "      <td>Terminado</td>\n",
              "      <td>2018</td>\n",
              "      <td>1605476</td>\n",
              "      <td>0</td>\n",
              "      <td>333</td>\n",
              "      <td>1605809</td>\n",
              "      <td>100.0</td>\n",
              "    </tr>\n",
              "    <tr>\n",
              "      <th>4</th>\n",
              "      <td>id_274786</td>\n",
              "      <td>MEJORAMIENTO Y OPTIMIZACIÓN DE VIAS TERCIARIAS...</td>\n",
              "      <td>Antioquia - Arboletes</td>\n",
              "      <td>Eje Cafetero</td>\n",
              "      <td>Antioquia</td>\n",
              "      <td>Transporte</td>\n",
              "      <td>Infraestructura Red Vial Regional</td>\n",
              "      <td>Red Vial Terciaria</td>\n",
              "      <td>100.0</td>\n",
              "      <td>99.99</td>\n",
              "      <td>Cerrado</td>\n",
              "      <td>Terminado</td>\n",
              "      <td>2016</td>\n",
              "      <td>210743</td>\n",
              "      <td>0</td>\n",
              "      <td>0</td>\n",
              "      <td>210743</td>\n",
              "      <td>100.0</td>\n",
              "    </tr>\n",
              "    <tr>\n",
              "      <th>5</th>\n",
              "      <td>id_592358</td>\n",
              "      <td>ESTUDIOS Y DISEÑOS PARA EL MEJORAMIENTO  DE LA...</td>\n",
              "      <td>Caracoli</td>\n",
              "      <td>Eje Cafetero</td>\n",
              "      <td>Antioquia</td>\n",
              "      <td>Transporte</td>\n",
              "      <td>Infraestructura Red Vial Regional</td>\n",
              "      <td>Red Vial Terciaria</td>\n",
              "      <td>100.0</td>\n",
              "      <td>100.00</td>\n",
              "      <td>Cerrado</td>\n",
              "      <td>Terminado</td>\n",
              "      <td>2018</td>\n",
              "      <td>31667</td>\n",
              "      <td>0</td>\n",
              "      <td>0</td>\n",
              "      <td>31667</td>\n",
              "      <td>100.0</td>\n",
              "    </tr>\n",
              "  </tbody>\n",
              "</table>\n",
              "</div>"
            ],
            "text/plain": [
              "  id_proyecto  ... pctg_sgr\n",
              "1   id_357417  ...    100.0\n",
              "2   id_357587  ...    100.0\n",
              "3   id_701595  ...    100.0\n",
              "4   id_274786  ...    100.0\n",
              "5   id_592358  ...    100.0\n",
              "\n",
              "[5 rows x 18 columns]"
            ]
          },
          "metadata": {
            "tags": []
          },
          "execution_count": 32
        }
      ]
    },
    {
      "cell_type": "code",
      "metadata": {
        "colab": {
          "base_uri": "https://localhost:8080/"
        },
        "id": "pKkucegWdveK",
        "outputId": "8d363b31-184f-4404-a758-aff563f2424b"
      },
      "source": [
        "iris_df['outlier_sw'] = iris_df['sepal_width'].apply(lambda x: 'outlier' if (x < fnums[0]) | (x > fnums[4]) else 'no_outlier')\n",
        "iris_df.outlier_sw.value_counts()"
      ],
      "execution_count": 33,
      "outputs": [
        {
          "output_type": "execute_result",
          "data": {
            "text/plain": [
              "no_outlier    146\n",
              "outlier         4\n",
              "Name: outlier_sw, dtype: int64"
            ]
          },
          "metadata": {
            "tags": []
          },
          "execution_count": 33
        }
      ]
    },
    {
      "cell_type": "markdown",
      "metadata": {
        "id": "k-F_vK92oAI3"
      },
      "source": [
        "**1. c) El número de valor extremo es: 4**"
      ]
    },
    {
      "cell_type": "code",
      "metadata": {
        "id": "NXx2g87Yi_7C"
      },
      "source": [
        "import numpy as np\n",
        "import pandas as pd\n",
        "import matplotlib.pyplot as plt\n",
        "from sklearn.neighbors import LocalOutlierFactor\n",
        "from sklearn.metrics import confusion_matrix\n",
        "from sklearn import datasets\n",
        "import random\n",
        "from plotnine import ggplot, geom_point, aes, geom_abline"
      ],
      "execution_count": 36,
      "outputs": []
    },
    {
      "cell_type": "code",
      "metadata": {
        "colab": {
          "base_uri": "https://localhost:8080/"
        },
        "id": "5VUMpyifuCf_",
        "outputId": "8e642179-da9d-4619-9d3e-45927075d42c"
      },
      "source": [
        "np.random.seed(42)\n",
        "# datos de entrenamiento: 2100 numeros aleatorias de distribución normal\n",
        "# con media cero y desviacion estandar 0.3\n",
        "X_inliers = np.random.normal(0, 0.3, 200)\n",
        "# Se convierte a 100 duplas para generar un scatter plot de 2 ejes\n",
        "X_inliers = np.reshape(X_inliers, (-1, 2))\n",
        "# Se concatenan, creando 200 duplas.\n",
        "X_inliers = np.r_[X_inliers + 2, X_inliers - 2]\n",
        "# Generacion de 20 duplas de outliers (10%) de números aleatorios entre -4 y 4\n",
        "X_outliers = np.random.uniform(low=-4, high=4, size=(20, 2))\n",
        "# Se concatenan en la variable X\n",
        "X = np.r_[X_inliers, X_outliers]\n",
        "n_outliers = len(X_outliers)\n",
        "## Crea un arreglo de \"unos\" de la misma longitud que X\n",
        "etiqueta = np.ones(len(X), dtype=int)\n",
        "# Le asigna la etiqueta -1 a los outliers (los 20 ultimos)\n",
        "etiqueta[-n_outliers:] = -1\n",
        "etiqueta"
      ],
      "execution_count": 37,
      "outputs": [
        {
          "output_type": "execute_result",
          "data": {
            "text/plain": [
              "array([ 1,  1,  1,  1,  1,  1,  1,  1,  1,  1,  1,  1,  1,  1,  1,  1,  1,\n",
              "        1,  1,  1,  1,  1,  1,  1,  1,  1,  1,  1,  1,  1,  1,  1,  1,  1,\n",
              "        1,  1,  1,  1,  1,  1,  1,  1,  1,  1,  1,  1,  1,  1,  1,  1,  1,\n",
              "        1,  1,  1,  1,  1,  1,  1,  1,  1,  1,  1,  1,  1,  1,  1,  1,  1,\n",
              "        1,  1,  1,  1,  1,  1,  1,  1,  1,  1,  1,  1,  1,  1,  1,  1,  1,\n",
              "        1,  1,  1,  1,  1,  1,  1,  1,  1,  1,  1,  1,  1,  1,  1,  1,  1,\n",
              "        1,  1,  1,  1,  1,  1,  1,  1,  1,  1,  1,  1,  1,  1,  1,  1,  1,\n",
              "        1,  1,  1,  1,  1,  1,  1,  1,  1,  1,  1,  1,  1,  1,  1,  1,  1,\n",
              "        1,  1,  1,  1,  1,  1,  1,  1,  1,  1,  1,  1,  1,  1,  1,  1,  1,\n",
              "        1,  1,  1,  1,  1,  1,  1,  1,  1,  1,  1,  1,  1,  1,  1,  1,  1,\n",
              "        1,  1,  1,  1,  1,  1,  1,  1,  1,  1,  1,  1,  1,  1,  1,  1,  1,\n",
              "        1,  1,  1,  1,  1,  1,  1,  1,  1,  1,  1,  1,  1, -1, -1, -1, -1,\n",
              "       -1, -1, -1, -1, -1, -1, -1, -1, -1, -1, -1, -1, -1, -1, -1, -1])"
            ]
          },
          "metadata": {
            "tags": []
          },
          "execution_count": 37
        }
      ]
    },
    {
      "cell_type": "code",
      "metadata": {
        "id": "fD8hkGoduQH0"
      },
      "source": [
        "# ajuste el modelo\n",
        "clf = LocalOutlierFactor(n_neighbors = 5, contamination = 0.1) # esto es para que identifique un 10% de datos outliers\n",
        "# use fit_predict para calcular el número de errores al comparar\n",
        "# con las etiquetas asignadas a la muestra de entrenamiento.\n",
        "y_pred = clf.fit_predict(X)\n",
        "n_errors = (y_pred != etiqueta).sum()\n",
        "X_scores = clf.negative_outlier_factor_ # El valor Local Outlier Factor (en este caso no hay umbral por que busca identificar el 10% de outliers)\n",
        "# np.random.choice(X_scores, 20) # Vea una muestra de \"puntajes\""
      ],
      "execution_count": 38,
      "outputs": []
    },
    {
      "cell_type": "code",
      "metadata": {
        "colab": {
          "base_uri": "https://localhost:8080/",
          "height": 296
        },
        "id": "kd2ympnjuTyP",
        "outputId": "85069572-ea23-46fc-8f87-cad6b17438cc"
      },
      "source": [
        "plt.title(\"Local Outlier Factor (LOF)\")\n",
        "plt.scatter(X[:, 0], X[:, 1], color='k', s=3., label='Puntos a evaluar')\n",
        "# los circulos son proporcionales al puntaje de outlier\n",
        "radius = (X_scores.max() - X_scores) / (X_scores.max() - X_scores.min())\n",
        "plt.scatter(X[:, 0], X[:, 1], s=1000 * radius, edgecolors='r',\n",
        "facecolors='none', label='Puntaje como anómalo')\n",
        "plt.axis('tight')\n",
        "plt.ylim((-5, 5))\n",
        "plt.ylim((-5, 5))\n",
        "plt.xlabel(\"Error de predicción: %d\" % (n_errors))\n",
        "legend = plt.legend(loc='upper left')\n",
        "legend.legendHandles[0]._sizes = [10]\n",
        "legend.legendHandles[1]._sizes = [20]\n",
        "plt.show()"
      ],
      "execution_count": 39,
      "outputs": [
        {
          "output_type": "display_data",
          "data": {
            "image/png": "[encoded data removed]",
            "text/plain": [
              "<Figure size 432x288 with 1 Axes>"
            ]
          },
          "metadata": {
            "tags": [],
            "needs_background": "light"
          }
        }
      ]
    },
    {
      "cell_type": "code",
      "metadata": {
        "colab": {
          "base_uri": "https://localhost:8080/"
        },
        "id": "qbazS8ewueaz",
        "outputId": "226843d9-cba6-46d5-dbc5-a80d9e1824d2"
      },
      "source": [
        "from sklearn.metrics import confusion_matrix\n",
        "cm = confusion_matrix(etiqueta, y_pred)\n",
        "cm"
      ],
      "execution_count": 40,
      "outputs": [
        {
          "output_type": "execute_result",
          "data": {
            "text/plain": [
              "array([[ 17,   3],\n",
              "       [  5, 195]])"
            ]
          },
          "metadata": {
            "tags": []
          },
          "execution_count": 40
        }
      ]
    },
    {
      "cell_type": "markdown",
      "metadata": {
        "id": "-yBwVqJtQH3f"
      },
      "source": [
        "**2. a) El número de valores outliers identificados son: 17,3 y 5,195.**"
      ]
    },
    {
      "cell_type": "markdown",
      "metadata": {
        "id": "V9Wn4KtaaOSm"
      },
      "source": [
        "**2. b) El proyecto con mayor del valor LOF es: 17,3**"
      ]
    },
    {
      "cell_type": "code",
      "metadata": {
        "id": "_GHpKqOCW7bC"
      },
      "source": [
        "iris = datasets.load_iris()\n",
        "iris_df = pd.DataFrame(iris.data, columns=iris.feature_names)\n",
        "iris_df['target'] = iris['target']\n",
        "iris_df.columns = ['sepal_length', 'sepal_width', 'petal_length',\n",
        "'petal_width', 'species']"
      ],
      "execution_count": 41,
      "outputs": []
    },
    {
      "cell_type": "code",
      "metadata": {
        "colab": {
          "base_uri": "https://localhost:8080/"
        },
        "id": "F_uY6polY8Lx",
        "outputId": "b9c8b9ae-66d9-47fd-c7e6-c2c2a63ec62c"
      },
      "source": [
        "clf = LocalOutlierFactor(n_neighbors = 5, novelty = False)\n",
        "# use fit_predict para calcular el número de errores al comparar\n",
        "# con las etiquetas asignadas a la muestra de entrenamiento.\n",
        "X = iris_df[['sepal_length', 'sepal_width']]\n",
        "y_pred = clf.fit_predict(X)\n",
        "lof_scores = -1 * clf.negative_outlier_factor_\n",
        "outlier_5 = lof_scores > 3\n",
        "unique, counts = np.unique(outlier_5, return_counts=True)\n",
        "unique, counts\n",
        "lof_scores\n",
        "# np.random.choice(X_scores, 20) # Vea una muestra de \"puntajes\""
      ],
      "execution_count": 46,
      "outputs": [
        {
          "output_type": "execute_result",
          "data": {
            "text/plain": [
              "array([1.04065244, 1.04693845, 0.99666581, 1.09231647, 1.15501532,\n",
              "       1.02705947, 1.11235314, 0.95857864, 1.1936053 , 1.00732885,\n",
              "       1.25108715, 1.37121627, 0.8826962 , 1.20785736, 1.20302214,\n",
              "       1.47956634, 1.02705947, 1.04065244, 1.09518172, 1.11580787,\n",
              "       1.31776622, 1.1789288 , 1.38549431, 1.20393785, 1.37121627,\n",
              "       1.07487954, 0.95857864, 1.14827183, 1.16251649, 0.99666581,\n",
              "       1.03351818, 1.31776622, 1.19492345, 1.09461963, 1.00732885,\n",
              "       1.10977831, 1.33004091, 1.47154987, 1.12651288, 0.91045695,\n",
              "       0.91422713, 1.18568923, 1.0278073 , 0.91422713, 1.11580787,\n",
              "       0.8826962 , 1.11580787, 1.03327614, 1.14784524, 1.1236453 ,\n",
              "       1.04291544, 0.91486101, 0.99356122, 1.12532437, 0.98755528,\n",
              "       1.05686518, 1.03835993, 1.07750527, 1.01327046, 1.62783685,\n",
              "       1.31753232, 1.17028278, 1.32617591, 1.0343497 , 1.031543  ,\n",
              "       0.97511055, 1.08078548, 0.95627191, 1.20829062, 1.07295727,\n",
              "       1.43285892, 0.9776265 , 1.31092784, 0.9776265 , 0.97511055,\n",
              "       1.        , 1.75604377, 1.05308184, 0.97960054, 1.35011859,\n",
              "       1.01731044, 1.01731044, 0.95627191, 1.28083119, 1.39828347,\n",
              "       1.45576846, 0.97511055, 1.06313548, 1.08078548, 1.01731044,\n",
              "       0.92025568, 0.88399225, 1.01106423, 1.04027351, 1.05488014,\n",
              "       1.06936044, 1.08207566, 0.98537869, 1.15549294, 1.05686518,\n",
              "       1.03835993, 0.95627191, 1.41244648, 1.03981138, 0.97387961,\n",
              "       1.05750742, 1.00069745, 1.05173526, 2.11493341, 2.60345804,\n",
              "       1.14119034, 0.98755528, 0.97511055, 1.21031326, 1.04963236,\n",
              "       0.91486101, 0.97387961, 1.83757865, 1.10742262, 1.32617591,\n",
              "       1.01213062, 0.96586039, 1.0997491 , 1.05308184, 1.34534347,\n",
              "       1.42659748, 0.98091837, 0.88399225, 1.        , 1.1845873 ,\n",
              "       1.0630298 , 1.97446684, 1.        , 0.96266583, 1.43867277,\n",
              "       1.0997491 , 1.14771168, 1.04587488, 1.14234156, 0.99356122,\n",
              "       0.97511055, 0.99356122, 0.95627191, 1.03871313, 1.34534347,\n",
              "       1.05308184, 1.31092784, 0.97387961, 1.12976788, 1.17028278])"
            ]
          },
          "metadata": {
            "tags": []
          },
          "execution_count": 46
        }
      ]
    },
    {
      "cell_type": "code",
      "metadata": {
        "colab": {
          "base_uri": "https://localhost:8080/"
        },
        "id": "c2dV_5DnZBT5",
        "outputId": "5abe22a4-3d52-4173-cae2-3d1826be9097"
      },
      "source": [
        "clf = LocalOutlierFactor(n_neighbors = 5, novelty = False)\n",
        "# use fit_predict para calcular el número de errores al comparar\n",
        "# con las etiquetas asignadas a la muestra de entrenamiento.\n",
        "X = iris_df[['sepal_length', 'sepal_width']]\n",
        "y_pred = clf.fit_predict(X)\n",
        "lof_scores = -1 * clf.negative_outlier_factor_\n",
        "outlier_15 = (lof_scores > 2)+0\n",
        "unique, counts = np.unique(outlier_15, return_counts=True)\n",
        "unique, counts\n",
        "# np.random.choice(X_scores, 20) # Vea una muestra de \"puntajes\"\n",
        "outlier_15"
      ],
      "execution_count": 48,
      "outputs": [
        {
          "output_type": "execute_result",
          "data": {
            "text/plain": [
              "array([0, 0, 0, 0, 0, 0, 0, 0, 0, 0, 0, 0, 0, 0, 0, 0, 0, 0, 0, 0, 0, 0,\n",
              "       0, 0, 0, 0, 0, 0, 0, 0, 0, 0, 0, 0, 0, 0, 0, 0, 0, 0, 0, 0, 0, 0,\n",
              "       0, 0, 0, 0, 0, 0, 0, 0, 0, 0, 0, 0, 0, 0, 0, 0, 0, 0, 0, 0, 0, 0,\n",
              "       0, 0, 0, 0, 0, 0, 0, 0, 0, 0, 0, 0, 0, 0, 0, 0, 0, 0, 0, 0, 0, 0,\n",
              "       0, 0, 0, 0, 0, 0, 0, 0, 0, 0, 0, 0, 0, 0, 0, 0, 0, 0, 0, 0, 1, 1,\n",
              "       0, 0, 0, 0, 0, 0, 0, 0, 0, 0, 0, 0, 0, 0, 0, 0, 0, 0, 0, 0, 0, 0,\n",
              "       0, 0, 0, 0, 0, 0, 0, 0, 0, 0, 0, 0, 0, 0, 0, 0, 0, 0])"
            ]
          },
          "metadata": {
            "tags": []
          },
          "execution_count": 48
        }
      ]
    },
    {
      "cell_type": "code",
      "metadata": {
        "id": "UxJfcdBNZJJW"
      },
      "source": [
        "iris_df['outlier_15'] = outlier_15"
      ],
      "execution_count": 49,
      "outputs": []
    },
    {
      "cell_type": "code",
      "metadata": {
        "colab": {
          "base_uri": "https://localhost:8080/",
          "height": 503
        },
        "id": "10B0YJurZMLg",
        "outputId": "e3192188-7ce3-4fdc-e27b-a735f6b2229d"
      },
      "source": [
        "(ggplot(iris_df, aes('sepal_length', 'sepal_width', color = 'factor(outlier_15)'))\n",
        "+ geom_point())"
      ],
      "execution_count": 51,
      "outputs": [
        {
          "output_type": "stream",
          "text": [
            "/usr/local/lib/python3.7/dist-packages/plotnine/utils.py:1246: FutureWarning: is_categorical is deprecated and will be removed in a future version.  Use is_categorical_dtype instead\n",
            "  if pdtypes.is_categorical(arr):\n"
          ],
          "name": "stderr"
        },
        {
          "output_type": "display_data",
          "data": {
            "image/png": "[encoded data removed]",
            "text/plain": [
              "<Figure size 640x480 with 1 Axes>"
            ]
          },
          "metadata": {
            "tags": []
          }
        },
        {
          "output_type": "execute_result",
          "data": {
            "text/plain": [
              "<ggplot: (8778268590417)>"
            ]
          },
          "metadata": {
            "tags": []
          },
          "execution_count": 51
        }
      ]
    },
    {
      "cell_type": "markdown",
      "metadata": {
        "id": "F0mRsAVybty8"
      },
      "source": [
        "**2. c) El número de valores oulier identificados son: 2**"
      ]
    },
    {
      "cell_type": "code",
      "metadata": {
        "id": "n_enjXTmcIN6"
      },
      "source": [
        "from sklearn.ensemble import IsolationForest\n",
        "import warnings\n",
        "warnings.filterwarnings(\"ignore\")"
      ],
      "execution_count": 52,
      "outputs": []
    },
    {
      "cell_type": "code",
      "metadata": {
        "colab": {
          "base_uri": "https://localhost:8080/",
          "height": 510
        },
        "id": "RZjj0QndcWhK",
        "outputId": "c3970c70-a240-4686-f352-1aefe99e9b9d"
      },
      "source": [
        "df = pd.read_csv('regalias_viasterciarias.csv')\n",
        "df.head(6)"
      ],
      "execution_count": 53,
      "outputs": [
        {
          "output_type": "execute_result",
          "data": {
            "text/html": [
              "<div>\n",
              "<style scoped>\n",
              "    .dataframe tbody tr th:only-of-type {\n",
              "        vertical-align: middle;\n",
              "    }\n",
              "\n",
              "    .dataframe tbody tr th {\n",
              "        vertical-align: top;\n",
              "    }\n",
              "\n",
              "    .dataframe thead th {\n",
              "        text-align: right;\n",
              "    }\n",
              "</style>\n",
              "<table border=\"1\" class=\"dataframe\">\n",
              "  <thead>\n",
              "    <tr style=\"text-align: right;\">\n",
              "      <th></th>\n",
              "      <th>Unnamed: 0</th>\n",
              "      <th>id_proyecto</th>\n",
              "      <th>nombre_del_proyecto</th>\n",
              "      <th>nombre_ocad</th>\n",
              "      <th>region</th>\n",
              "      <th>departamento</th>\n",
              "      <th>sector_suifp</th>\n",
              "      <th>programa</th>\n",
              "      <th>subprograma</th>\n",
              "      <th>avance_fisico</th>\n",
              "      <th>avance_financiero</th>\n",
              "      <th>estado_detalle</th>\n",
              "      <th>estado_general</th>\n",
              "      <th>anno</th>\n",
              "      <th>valor_sgr</th>\n",
              "      <th>valor_nación</th>\n",
              "      <th>valor_otros</th>\n",
              "      <th>total_proyecto</th>\n",
              "      <th>pctg_sgr</th>\n",
              "    </tr>\n",
              "  </thead>\n",
              "  <tbody>\n",
              "    <tr>\n",
              "      <th>0</th>\n",
              "      <td>1</td>\n",
              "      <td>id_357417</td>\n",
              "      <td>CONSTRUCCIÓN DE PLACA HUELLA EN VÍAS TERCIARIA...</td>\n",
              "      <td>Región Eje Cafetero</td>\n",
              "      <td>Eje Cafetero</td>\n",
              "      <td>Antioquia</td>\n",
              "      <td>Transporte</td>\n",
              "      <td>Infraestructura Red Vial Regional</td>\n",
              "      <td>Red Vial Terciaria</td>\n",
              "      <td>100.0</td>\n",
              "      <td>100.00</td>\n",
              "      <td>Cerrado</td>\n",
              "      <td>Terminado</td>\n",
              "      <td>2017</td>\n",
              "      <td>1784417</td>\n",
              "      <td>0</td>\n",
              "      <td>0</td>\n",
              "      <td>1784417</td>\n",
              "      <td>100.0</td>\n",
              "    </tr>\n",
              "    <tr>\n",
              "      <th>1</th>\n",
              "      <td>2</td>\n",
              "      <td>id_357587</td>\n",
              "      <td>CONSTRUCCIÓN DE PLACA HUELLA EN VÍAS TERCIARIA...</td>\n",
              "      <td>Región Eje Cafetero</td>\n",
              "      <td>Eje Cafetero</td>\n",
              "      <td>Antioquia</td>\n",
              "      <td>Transporte</td>\n",
              "      <td>Infraestructura Red Vial Regional</td>\n",
              "      <td>Red Vial Terciaria</td>\n",
              "      <td>100.0</td>\n",
              "      <td>100.00</td>\n",
              "      <td>Cerrado</td>\n",
              "      <td>Terminado</td>\n",
              "      <td>2017</td>\n",
              "      <td>756224</td>\n",
              "      <td>0</td>\n",
              "      <td>0</td>\n",
              "      <td>756224</td>\n",
              "      <td>100.0</td>\n",
              "    </tr>\n",
              "    <tr>\n",
              "      <th>2</th>\n",
              "      <td>3</td>\n",
              "      <td>id_701595</td>\n",
              "      <td>MEJORAMIENTO DE VÍAS TERCIARIAS EN LOS MUNICIP...</td>\n",
              "      <td>Región Eje Cafetero</td>\n",
              "      <td>Eje Cafetero</td>\n",
              "      <td>Antioquia</td>\n",
              "      <td>Transporte</td>\n",
              "      <td>Infraestructura Red Vial Regional</td>\n",
              "      <td>Red Vial Terciaria</td>\n",
              "      <td>100.0</td>\n",
              "      <td>99.95</td>\n",
              "      <td>Cerrado</td>\n",
              "      <td>Terminado</td>\n",
              "      <td>2018</td>\n",
              "      <td>1605476</td>\n",
              "      <td>0</td>\n",
              "      <td>333</td>\n",
              "      <td>1605809</td>\n",
              "      <td>100.0</td>\n",
              "    </tr>\n",
              "    <tr>\n",
              "      <th>3</th>\n",
              "      <td>4</td>\n",
              "      <td>id_274786</td>\n",
              "      <td>MEJORAMIENTO Y OPTIMIZACIÓN DE VIAS TERCIARIAS...</td>\n",
              "      <td>Antioquia - Arboletes</td>\n",
              "      <td>Eje Cafetero</td>\n",
              "      <td>Antioquia</td>\n",
              "      <td>Transporte</td>\n",
              "      <td>Infraestructura Red Vial Regional</td>\n",
              "      <td>Red Vial Terciaria</td>\n",
              "      <td>100.0</td>\n",
              "      <td>99.99</td>\n",
              "      <td>Cerrado</td>\n",
              "      <td>Terminado</td>\n",
              "      <td>2016</td>\n",
              "      <td>210743</td>\n",
              "      <td>0</td>\n",
              "      <td>0</td>\n",
              "      <td>210743</td>\n",
              "      <td>100.0</td>\n",
              "    </tr>\n",
              "    <tr>\n",
              "      <th>4</th>\n",
              "      <td>5</td>\n",
              "      <td>id_592358</td>\n",
              "      <td>ESTUDIOS Y DISEÑOS PARA EL MEJORAMIENTO  DE LA...</td>\n",
              "      <td>Caracoli</td>\n",
              "      <td>Eje Cafetero</td>\n",
              "      <td>Antioquia</td>\n",
              "      <td>Transporte</td>\n",
              "      <td>Infraestructura Red Vial Regional</td>\n",
              "      <td>Red Vial Terciaria</td>\n",
              "      <td>100.0</td>\n",
              "      <td>100.00</td>\n",
              "      <td>Cerrado</td>\n",
              "      <td>Terminado</td>\n",
              "      <td>2018</td>\n",
              "      <td>31667</td>\n",
              "      <td>0</td>\n",
              "      <td>0</td>\n",
              "      <td>31667</td>\n",
              "      <td>100.0</td>\n",
              "    </tr>\n",
              "    <tr>\n",
              "      <th>5</th>\n",
              "      <td>6</td>\n",
              "      <td>id_1062076</td>\n",
              "      <td>ELABORACIÓN DE ESTUDIOS Y DISEÑOS DE LA VÍA DE...</td>\n",
              "      <td>Antioquia - Cisneros</td>\n",
              "      <td>Eje Cafetero</td>\n",
              "      <td>Antioquia</td>\n",
              "      <td>Transporte</td>\n",
              "      <td>Infraestructura Red Vial Regional</td>\n",
              "      <td>Red Vial Terciaria</td>\n",
              "      <td>100.0</td>\n",
              "      <td>90.00</td>\n",
              "      <td>Cerrado</td>\n",
              "      <td>Terminado</td>\n",
              "      <td>2020</td>\n",
              "      <td>7667</td>\n",
              "      <td>0</td>\n",
              "      <td>0</td>\n",
              "      <td>7667</td>\n",
              "      <td>100.0</td>\n",
              "    </tr>\n",
              "  </tbody>\n",
              "</table>\n",
              "</div>"
            ],
            "text/plain": [
              "   Unnamed: 0 id_proyecto  ... total_proyecto pctg_sgr\n",
              "0           1   id_357417  ...        1784417    100.0\n",
              "1           2   id_357587  ...         756224    100.0\n",
              "2           3   id_701595  ...        1605809    100.0\n",
              "3           4   id_274786  ...         210743    100.0\n",
              "4           5   id_592358  ...          31667    100.0\n",
              "5           6  id_1062076  ...           7667    100.0\n",
              "\n",
              "[6 rows x 19 columns]"
            ]
          },
          "metadata": {
            "tags": []
          },
          "execution_count": 53
        }
      ]
    },
    {
      "cell_type": "code",
      "metadata": {
        "colab": {
          "base_uri": "https://localhost:8080/"
        },
        "id": "vDKlYP7Vc4tn",
        "outputId": "04cda775-c398-4cb1-cf9a-e89cd364022c"
      },
      "source": [
        "model=IsolationForest(n_estimators = 10, max_samples = 'auto', \\\n",
        "contamination = float(0.1), max_features = 1.0)\n",
        "model.fit(df[['valor_sgr']])"
      ],
      "execution_count": 61,
      "outputs": [
        {
          "output_type": "execute_result",
          "data": {
            "text/plain": [
              "IsolationForest(behaviour='deprecated', bootstrap=False, contamination=0.1,\n",
              "                max_features=1.0, max_samples='auto', n_estimators=10,\n",
              "                n_jobs=None, random_state=None, verbose=0, warm_start=False)"
            ]
          },
          "metadata": {
            "tags": []
          },
          "execution_count": 61
        }
      ]
    },
    {
      "cell_type": "code",
      "metadata": {
        "colab": {
          "base_uri": "https://localhost:8080/",
          "height": 235
        },
        "id": "TewJrxQLd59r",
        "outputId": "3dd51b88-bd48-405c-a3fa-ebbc5e62d548"
      },
      "source": [
        "df['puntaje'] = model.decision_function(df[['valor_sgr']])\n",
        "df['anomalo'] = model.predict(df[['valor_sgr']])\n",
        "df[[\"valor_sgr\", \"puntaje\", \"anomalo\"]].head(6)"
      ],
      "execution_count": 63,
      "outputs": [
        {
          "output_type": "execute_result",
          "data": {
            "text/html": [
              "<div>\n",
              "<style scoped>\n",
              "    .dataframe tbody tr th:only-of-type {\n",
              "        vertical-align: middle;\n",
              "    }\n",
              "\n",
              "    .dataframe tbody tr th {\n",
              "        vertical-align: top;\n",
              "    }\n",
              "\n",
              "    .dataframe thead th {\n",
              "        text-align: right;\n",
              "    }\n",
              "</style>\n",
              "<table border=\"1\" class=\"dataframe\">\n",
              "  <thead>\n",
              "    <tr style=\"text-align: right;\">\n",
              "      <th></th>\n",
              "      <th>valor_sgr</th>\n",
              "      <th>puntaje</th>\n",
              "      <th>anomalo</th>\n",
              "    </tr>\n",
              "  </thead>\n",
              "  <tbody>\n",
              "    <tr>\n",
              "      <th>0</th>\n",
              "      <td>1784417</td>\n",
              "      <td>-0.179837</td>\n",
              "      <td>-1</td>\n",
              "    </tr>\n",
              "    <tr>\n",
              "      <th>1</th>\n",
              "      <td>756224</td>\n",
              "      <td>0.042512</td>\n",
              "      <td>1</td>\n",
              "    </tr>\n",
              "    <tr>\n",
              "      <th>2</th>\n",
              "      <td>1605476</td>\n",
              "      <td>-0.123048</td>\n",
              "      <td>-1</td>\n",
              "    </tr>\n",
              "    <tr>\n",
              "      <th>3</th>\n",
              "      <td>210743</td>\n",
              "      <td>0.126802</td>\n",
              "      <td>1</td>\n",
              "    </tr>\n",
              "    <tr>\n",
              "      <th>4</th>\n",
              "      <td>31667</td>\n",
              "      <td>0.041440</td>\n",
              "      <td>1</td>\n",
              "    </tr>\n",
              "    <tr>\n",
              "      <th>5</th>\n",
              "      <td>7667</td>\n",
              "      <td>-0.042835</td>\n",
              "      <td>-1</td>\n",
              "    </tr>\n",
              "  </tbody>\n",
              "</table>\n",
              "</div>"
            ],
            "text/plain": [
              "   valor_sgr   puntaje  anomalo\n",
              "0    1784417 -0.179837       -1\n",
              "1     756224  0.042512        1\n",
              "2    1605476 -0.123048       -1\n",
              "3     210743  0.126802        1\n",
              "4      31667  0.041440        1\n",
              "5       7667 -0.042835       -1"
            ]
          },
          "metadata": {
            "tags": []
          },
          "execution_count": 63
        }
      ]
    },
    {
      "cell_type": "code",
      "metadata": {
        "colab": {
          "base_uri": "https://localhost:8080/"
        },
        "id": "c1vacDpLeH1P",
        "outputId": "eae3a023-2728-42e6-f907-e925932c2ea7"
      },
      "source": [
        "anomalia = df.loc[df['anomalo'] == -1]\n",
        "anomalia_index = list(anomalia.index)\n",
        "print(anomalia)"
      ],
      "execution_count": 64,
      "outputs": [
        {
          "output_type": "stream",
          "text": [
            "     Unnamed: 0 id_proyecto  ... anomalo outlier\n",
            "0             1   id_357417  ...      -1       0\n",
            "2             3   id_701595  ...      -1       0\n",
            "5             6  id_1062076  ...      -1       0\n",
            "6             7   id_706853  ...      -1       0\n",
            "15           16  id_1067153  ...      -1       0\n",
            "19           20   id_324697  ...      -1       1\n",
            "41           42   id_377796  ...      -1       0\n",
            "46           47   id_290778  ...      -1       1\n",
            "62           63   id_638485  ...      -1       1\n",
            "68           69   id_274220  ...      -1       1\n",
            "77           78   id_980719  ...      -1       0\n",
            "81           82   id_589468  ...      -1       0\n",
            "87           88   id_498470  ...      -1       0\n",
            "90           91   id_498626  ...      -1       0\n",
            "92           93   id_554202  ...      -1       0\n",
            "101         102   id_369942  ...      -1       0\n",
            "114         115   id_500829  ...      -1       0\n",
            "141         142   id_453236  ...      -1       0\n",
            "194         195   id_352785  ...      -1       0\n",
            "196         197   id_376420  ...      -1       0\n",
            "\n",
            "[20 rows x 22 columns]\n"
          ],
          "name": "stdout"
        }
      ]
    },
    {
      "cell_type": "code",
      "metadata": {
        "colab": {
          "base_uri": "https://localhost:8080/"
        },
        "id": "RS2x3Lg6eyQQ",
        "outputId": "b3e08bf3-0687-45d0-d64e-afb4e9391895"
      },
      "source": [
        "clf = LocalOutlierFactor(n_neighbors = 3, novelty = False, contamination = 0.2)\n",
        "# use fit_predict para calcular el número de errores al comparar\n",
        "# con las etiquetas asignadas a la muestra de entrenamiento.\n",
        "X = df[['valor_sgr', 'valor_nación',\t'valor_otros',\t'pctg_sgr']]\n",
        "y_pred = clf.fit_predict(X)\n",
        "lof_scores = -1 * clf.negative_outlier_factor_\n",
        "outlier = (lof_scores > 2)+0\n",
        "unique, counts = np.unique(outlier_15, return_counts=True)\n",
        "unique, counts\n",
        "# np.random.choice(X_scores, 20) # Vea una muestra de \"puntajes\"\n",
        "outlier"
      ],
      "execution_count": 65,
      "outputs": [
        {
          "output_type": "execute_result",
          "data": {
            "text/plain": [
              "array([0, 0, 0, 0, 0, 0, 0, 0, 0, 0, 0, 0, 0, 1, 0, 0, 0, 0, 0, 1, 1, 0,\n",
              "       1, 1, 0, 0, 0, 1, 1, 1, 0, 0, 0, 0, 0, 0, 0, 0, 0, 0, 0, 0, 1, 0,\n",
              "       0, 0, 1, 0, 0, 0, 0, 0, 0, 0, 0, 0, 0, 0, 0, 0, 0, 0, 1, 0, 0, 0,\n",
              "       0, 0, 1, 0, 0, 0, 0, 1, 0, 0, 0, 0, 0, 0, 0, 0, 0, 0, 0, 1, 0, 0,\n",
              "       0, 0, 0, 0, 0, 0, 0, 0, 0, 0, 0, 0, 0, 0, 0, 0, 0, 0, 0, 0, 0, 0,\n",
              "       0, 0, 0, 0, 0, 0, 0, 0, 0, 0, 0, 0, 0, 0, 0, 0, 0, 0, 0, 0, 0, 0,\n",
              "       0, 0, 0, 0, 0, 0, 0, 0, 0, 0, 0, 0, 1, 0, 0, 0, 0, 0, 0, 0, 0, 0,\n",
              "       0, 1, 0, 0, 0, 0, 0, 0, 0, 0, 0, 0, 0, 1, 0, 0, 0, 0, 1, 0, 0, 0,\n",
              "       1, 1, 1, 0, 0, 0, 1, 0, 0, 0, 0, 0, 0, 1, 0, 0, 0, 1, 0, 0, 0, 0,\n",
              "       1, 0, 0, 0, 0, 0, 0, 0, 0])"
            ]
          },
          "metadata": {
            "tags": []
          },
          "execution_count": 65
        }
      ]
    },
    {
      "cell_type": "code",
      "metadata": {
        "colab": {
          "base_uri": "https://localhost:8080/",
          "height": 428
        },
        "id": "LwurIaZKfD_y",
        "outputId": "6147ca28-d633-4cd0-a8d4-6927152b6afd"
      },
      "source": [
        "df['outlier'] = outlier\n",
        "df.head()"
      ],
      "execution_count": 66,
      "outputs": [
        {
          "output_type": "execute_result",
          "data": {
            "text/html": [
              "<div>\n",
              "<style scoped>\n",
              "    .dataframe tbody tr th:only-of-type {\n",
              "        vertical-align: middle;\n",
              "    }\n",
              "\n",
              "    .dataframe tbody tr th {\n",
              "        vertical-align: top;\n",
              "    }\n",
              "\n",
              "    .dataframe thead th {\n",
              "        text-align: right;\n",
              "    }\n",
              "</style>\n",
              "<table border=\"1\" class=\"dataframe\">\n",
              "  <thead>\n",
              "    <tr style=\"text-align: right;\">\n",
              "      <th></th>\n",
              "      <th>Unnamed: 0</th>\n",
              "      <th>id_proyecto</th>\n",
              "      <th>nombre_del_proyecto</th>\n",
              "      <th>nombre_ocad</th>\n",
              "      <th>region</th>\n",
              "      <th>departamento</th>\n",
              "      <th>sector_suifp</th>\n",
              "      <th>programa</th>\n",
              "      <th>subprograma</th>\n",
              "      <th>avance_fisico</th>\n",
              "      <th>avance_financiero</th>\n",
              "      <th>estado_detalle</th>\n",
              "      <th>estado_general</th>\n",
              "      <th>anno</th>\n",
              "      <th>valor_sgr</th>\n",
              "      <th>valor_nación</th>\n",
              "      <th>valor_otros</th>\n",
              "      <th>total_proyecto</th>\n",
              "      <th>pctg_sgr</th>\n",
              "      <th>puntaje</th>\n",
              "      <th>anomalo</th>\n",
              "      <th>outlier</th>\n",
              "    </tr>\n",
              "  </thead>\n",
              "  <tbody>\n",
              "    <tr>\n",
              "      <th>0</th>\n",
              "      <td>1</td>\n",
              "      <td>id_357417</td>\n",
              "      <td>CONSTRUCCIÓN DE PLACA HUELLA EN VÍAS TERCIARIA...</td>\n",
              "      <td>Región Eje Cafetero</td>\n",
              "      <td>Eje Cafetero</td>\n",
              "      <td>Antioquia</td>\n",
              "      <td>Transporte</td>\n",
              "      <td>Infraestructura Red Vial Regional</td>\n",
              "      <td>Red Vial Terciaria</td>\n",
              "      <td>100.0</td>\n",
              "      <td>100.00</td>\n",
              "      <td>Cerrado</td>\n",
              "      <td>Terminado</td>\n",
              "      <td>2017</td>\n",
              "      <td>1784417</td>\n",
              "      <td>0</td>\n",
              "      <td>0</td>\n",
              "      <td>1784417</td>\n",
              "      <td>100.0</td>\n",
              "      <td>-0.179837</td>\n",
              "      <td>-1</td>\n",
              "      <td>0</td>\n",
              "    </tr>\n",
              "    <tr>\n",
              "      <th>1</th>\n",
              "      <td>2</td>\n",
              "      <td>id_357587</td>\n",
              "      <td>CONSTRUCCIÓN DE PLACA HUELLA EN VÍAS TERCIARIA...</td>\n",
              "      <td>Región Eje Cafetero</td>\n",
              "      <td>Eje Cafetero</td>\n",
              "      <td>Antioquia</td>\n",
              "      <td>Transporte</td>\n",
              "      <td>Infraestructura Red Vial Regional</td>\n",
              "      <td>Red Vial Terciaria</td>\n",
              "      <td>100.0</td>\n",
              "      <td>100.00</td>\n",
              "      <td>Cerrado</td>\n",
              "      <td>Terminado</td>\n",
              "      <td>2017</td>\n",
              "      <td>756224</td>\n",
              "      <td>0</td>\n",
              "      <td>0</td>\n",
              "      <td>756224</td>\n",
              "      <td>100.0</td>\n",
              "      <td>0.042512</td>\n",
              "      <td>1</td>\n",
              "      <td>0</td>\n",
              "    </tr>\n",
              "    <tr>\n",
              "      <th>2</th>\n",
              "      <td>3</td>\n",
              "      <td>id_701595</td>\n",
              "      <td>MEJORAMIENTO DE VÍAS TERCIARIAS EN LOS MUNICIP...</td>\n",
              "      <td>Región Eje Cafetero</td>\n",
              "      <td>Eje Cafetero</td>\n",
              "      <td>Antioquia</td>\n",
              "      <td>Transporte</td>\n",
              "      <td>Infraestructura Red Vial Regional</td>\n",
              "      <td>Red Vial Terciaria</td>\n",
              "      <td>100.0</td>\n",
              "      <td>99.95</td>\n",
              "      <td>Cerrado</td>\n",
              "      <td>Terminado</td>\n",
              "      <td>2018</td>\n",
              "      <td>1605476</td>\n",
              "      <td>0</td>\n",
              "      <td>333</td>\n",
              "      <td>1605809</td>\n",
              "      <td>100.0</td>\n",
              "      <td>-0.123048</td>\n",
              "      <td>-1</td>\n",
              "      <td>0</td>\n",
              "    </tr>\n",
              "    <tr>\n",
              "      <th>3</th>\n",
              "      <td>4</td>\n",
              "      <td>id_274786</td>\n",
              "      <td>MEJORAMIENTO Y OPTIMIZACIÓN DE VIAS TERCIARIAS...</td>\n",
              "      <td>Antioquia - Arboletes</td>\n",
              "      <td>Eje Cafetero</td>\n",
              "      <td>Antioquia</td>\n",
              "      <td>Transporte</td>\n",
              "      <td>Infraestructura Red Vial Regional</td>\n",
              "      <td>Red Vial Terciaria</td>\n",
              "      <td>100.0</td>\n",
              "      <td>99.99</td>\n",
              "      <td>Cerrado</td>\n",
              "      <td>Terminado</td>\n",
              "      <td>2016</td>\n",
              "      <td>210743</td>\n",
              "      <td>0</td>\n",
              "      <td>0</td>\n",
              "      <td>210743</td>\n",
              "      <td>100.0</td>\n",
              "      <td>0.126802</td>\n",
              "      <td>1</td>\n",
              "      <td>0</td>\n",
              "    </tr>\n",
              "    <tr>\n",
              "      <th>4</th>\n",
              "      <td>5</td>\n",
              "      <td>id_592358</td>\n",
              "      <td>ESTUDIOS Y DISEÑOS PARA EL MEJORAMIENTO  DE LA...</td>\n",
              "      <td>Caracoli</td>\n",
              "      <td>Eje Cafetero</td>\n",
              "      <td>Antioquia</td>\n",
              "      <td>Transporte</td>\n",
              "      <td>Infraestructura Red Vial Regional</td>\n",
              "      <td>Red Vial Terciaria</td>\n",
              "      <td>100.0</td>\n",
              "      <td>100.00</td>\n",
              "      <td>Cerrado</td>\n",
              "      <td>Terminado</td>\n",
              "      <td>2018</td>\n",
              "      <td>31667</td>\n",
              "      <td>0</td>\n",
              "      <td>0</td>\n",
              "      <td>31667</td>\n",
              "      <td>100.0</td>\n",
              "      <td>0.041440</td>\n",
              "      <td>1</td>\n",
              "      <td>0</td>\n",
              "    </tr>\n",
              "  </tbody>\n",
              "</table>\n",
              "</div>"
            ],
            "text/plain": [
              "   Unnamed: 0 id_proyecto  ... anomalo outlier\n",
              "0           1   id_357417  ...      -1       0\n",
              "1           2   id_357587  ...       1       0\n",
              "2           3   id_701595  ...      -1       0\n",
              "3           4   id_274786  ...       1       0\n",
              "4           5   id_592358  ...       1       0\n",
              "\n",
              "[5 rows x 22 columns]"
            ]
          },
          "metadata": {
            "tags": []
          },
          "execution_count": 66
        }
      ]
    },
    {
      "cell_type": "code",
      "metadata": {
        "colab": {
          "base_uri": "https://localhost:8080/",
          "height": 1000
        },
        "id": "7pKqIavsfM9Z",
        "outputId": "de214843-bc44-4e1d-9c2a-fc50a8008cd7"
      },
      "source": [
        "df.loc[df.outlier == 1]"
      ],
      "execution_count": 67,
      "outputs": [
        {
          "output_type": "execute_result",
          "data": {
            "text/html": [
              "<div>\n",
              "<style scoped>\n",
              "    .dataframe tbody tr th:only-of-type {\n",
              "        vertical-align: middle;\n",
              "    }\n",
              "\n",
              "    .dataframe tbody tr th {\n",
              "        vertical-align: top;\n",
              "    }\n",
              "\n",
              "    .dataframe thead th {\n",
              "        text-align: right;\n",
              "    }\n",
              "</style>\n",
              "<table border=\"1\" class=\"dataframe\">\n",
              "  <thead>\n",
              "    <tr style=\"text-align: right;\">\n",
              "      <th></th>\n",
              "      <th>Unnamed: 0</th>\n",
              "      <th>id_proyecto</th>\n",
              "      <th>nombre_del_proyecto</th>\n",
              "      <th>nombre_ocad</th>\n",
              "      <th>region</th>\n",
              "      <th>departamento</th>\n",
              "      <th>sector_suifp</th>\n",
              "      <th>programa</th>\n",
              "      <th>subprograma</th>\n",
              "      <th>avance_fisico</th>\n",
              "      <th>avance_financiero</th>\n",
              "      <th>estado_detalle</th>\n",
              "      <th>estado_general</th>\n",
              "      <th>anno</th>\n",
              "      <th>valor_sgr</th>\n",
              "      <th>valor_nación</th>\n",
              "      <th>valor_otros</th>\n",
              "      <th>total_proyecto</th>\n",
              "      <th>pctg_sgr</th>\n",
              "      <th>puntaje</th>\n",
              "      <th>anomalo</th>\n",
              "      <th>outlier</th>\n",
              "    </tr>\n",
              "  </thead>\n",
              "  <tbody>\n",
              "    <tr>\n",
              "      <th>13</th>\n",
              "      <td>14</td>\n",
              "      <td>id_1011939</td>\n",
              "      <td>MEJORAMIENTO DE VÍAS RURALES, PARA EL DESARROL...</td>\n",
              "      <td>Antioquia - San Vicente</td>\n",
              "      <td>Eje Cafetero</td>\n",
              "      <td>Antioquia</td>\n",
              "      <td>Transporte</td>\n",
              "      <td>Infraestructura Red Vial Regional</td>\n",
              "      <td>Red Vial Terciaria</td>\n",
              "      <td>100.00</td>\n",
              "      <td>100.00</td>\n",
              "      <td>Cerrado</td>\n",
              "      <td>Terminado</td>\n",
              "      <td>2019</td>\n",
              "      <td>206234</td>\n",
              "      <td>0</td>\n",
              "      <td>239718</td>\n",
              "      <td>445952</td>\n",
              "      <td>46.2</td>\n",
              "      <td>0.113446</td>\n",
              "      <td>1</td>\n",
              "      <td>1</td>\n",
              "    </tr>\n",
              "    <tr>\n",
              "      <th>19</th>\n",
              "      <td>20</td>\n",
              "      <td>id_324697</td>\n",
              "      <td>MEJORAMIENTO EN PAVIMENTO ASFÁLTICO DE LA VÍA ...</td>\n",
              "      <td>Región Caribe</td>\n",
              "      <td>Caribe</td>\n",
              "      <td>Bolívar</td>\n",
              "      <td>Transporte</td>\n",
              "      <td>Infraestructura Red Vial Regional</td>\n",
              "      <td>Red Vial Terciaria</td>\n",
              "      <td>100.00</td>\n",
              "      <td>100.00</td>\n",
              "      <td>Cerrado</td>\n",
              "      <td>Terminado</td>\n",
              "      <td>2017</td>\n",
              "      <td>18193397</td>\n",
              "      <td>0</td>\n",
              "      <td>0</td>\n",
              "      <td>18193397</td>\n",
              "      <td>100.0</td>\n",
              "      <td>-0.380267</td>\n",
              "      <td>-1</td>\n",
              "      <td>1</td>\n",
              "    </tr>\n",
              "    <tr>\n",
              "      <th>20</th>\n",
              "      <td>21</td>\n",
              "      <td>id_625428</td>\n",
              "      <td>CONSTRUCCIÓN DE PLACA HUELLA EN LA VÍA QUE COM...</td>\n",
              "      <td>Bolivar - El Guamo</td>\n",
              "      <td>Caribe</td>\n",
              "      <td>Bolívar</td>\n",
              "      <td>Transporte</td>\n",
              "      <td>Infraestructura Red Vial Regional</td>\n",
              "      <td>Red Vial Terciaria</td>\n",
              "      <td>100.00</td>\n",
              "      <td>99.89</td>\n",
              "      <td>Cerrado</td>\n",
              "      <td>Terminado</td>\n",
              "      <td>2018</td>\n",
              "      <td>382754</td>\n",
              "      <td>0</td>\n",
              "      <td>53387</td>\n",
              "      <td>436140</td>\n",
              "      <td>87.8</td>\n",
              "      <td>0.079067</td>\n",
              "      <td>1</td>\n",
              "      <td>1</td>\n",
              "    </tr>\n",
              "    <tr>\n",
              "      <th>22</th>\n",
              "      <td>23</td>\n",
              "      <td>id_812308</td>\n",
              "      <td>MEJORAMIENTO DE RED VIAL TERCIARIA EN LA VERED...</td>\n",
              "      <td>Boyaca - Cucaita</td>\n",
              "      <td>Centro Oriente</td>\n",
              "      <td>Boyacá</td>\n",
              "      <td>Transporte</td>\n",
              "      <td>Infraestructura Red Vial Regional</td>\n",
              "      <td>Red Vial Terciaria</td>\n",
              "      <td>100.00</td>\n",
              "      <td>92.53</td>\n",
              "      <td>Cerrado</td>\n",
              "      <td>Terminado</td>\n",
              "      <td>2019</td>\n",
              "      <td>157205</td>\n",
              "      <td>0</td>\n",
              "      <td>28120</td>\n",
              "      <td>185324</td>\n",
              "      <td>84.8</td>\n",
              "      <td>0.088953</td>\n",
              "      <td>1</td>\n",
              "      <td>1</td>\n",
              "    </tr>\n",
              "    <tr>\n",
              "      <th>23</th>\n",
              "      <td>24</td>\n",
              "      <td>id_1028007</td>\n",
              "      <td>MEJORAMIENTO DE LA VÍA LLUVIOSOS - ESCALONES, ...</td>\n",
              "      <td>Boyaca - Cucaita</td>\n",
              "      <td>Centro Oriente</td>\n",
              "      <td>Boyacá</td>\n",
              "      <td>Transporte</td>\n",
              "      <td>Infraestructura Red Vial Regional</td>\n",
              "      <td>Red Vial Terciaria</td>\n",
              "      <td>100.00</td>\n",
              "      <td>99.97</td>\n",
              "      <td>Cerrado</td>\n",
              "      <td>Terminado</td>\n",
              "      <td>2019</td>\n",
              "      <td>58488</td>\n",
              "      <td>0</td>\n",
              "      <td>3509</td>\n",
              "      <td>61997</td>\n",
              "      <td>94.3</td>\n",
              "      <td>0.019761</td>\n",
              "      <td>1</td>\n",
              "      <td>1</td>\n",
              "    </tr>\n",
              "    <tr>\n",
              "      <th>27</th>\n",
              "      <td>28</td>\n",
              "      <td>id_370367</td>\n",
              "      <td>MEJORAMIENTO DE LA VÍA TERCIARIA RINCÓN DE LAS...</td>\n",
              "      <td>Boyaca - Nobsa</td>\n",
              "      <td>Centro Oriente</td>\n",
              "      <td>Boyacá</td>\n",
              "      <td>Transporte</td>\n",
              "      <td>Infraestructura Red Vial Regional</td>\n",
              "      <td>Red Vial Terciaria</td>\n",
              "      <td>100.00</td>\n",
              "      <td>95.82</td>\n",
              "      <td>Cerrado</td>\n",
              "      <td>Terminado</td>\n",
              "      <td>2017</td>\n",
              "      <td>433333</td>\n",
              "      <td>0</td>\n",
              "      <td>161476</td>\n",
              "      <td>594810</td>\n",
              "      <td>72.9</td>\n",
              "      <td>0.058526</td>\n",
              "      <td>1</td>\n",
              "      <td>1</td>\n",
              "    </tr>\n",
              "    <tr>\n",
              "      <th>28</th>\n",
              "      <td>29</td>\n",
              "      <td>id_277866</td>\n",
              "      <td>MEJORAMIENTO DE VÍAS TERCIARIAS MEDIANTE EL US...</td>\n",
              "      <td>Boyaca - Puerto Boyaca</td>\n",
              "      <td>Centro Oriente</td>\n",
              "      <td>Boyacá</td>\n",
              "      <td>Transporte</td>\n",
              "      <td>Infraestructura Red Vial Regional</td>\n",
              "      <td>Red Vial Terciaria</td>\n",
              "      <td>22.29</td>\n",
              "      <td>21.72</td>\n",
              "      <td>Cerrado</td>\n",
              "      <td>Terminado</td>\n",
              "      <td>2017</td>\n",
              "      <td>458265</td>\n",
              "      <td>0</td>\n",
              "      <td>0</td>\n",
              "      <td>458265</td>\n",
              "      <td>100.0</td>\n",
              "      <td>0.084113</td>\n",
              "      <td>1</td>\n",
              "      <td>1</td>\n",
              "    </tr>\n",
              "    <tr>\n",
              "      <th>29</th>\n",
              "      <td>30</td>\n",
              "      <td>id_355264</td>\n",
              "      <td>CONSTRUCCIÓN DE PAVIMENTO EN CONCRETO RÍGIDO E...</td>\n",
              "      <td>Boyaca - Puerto Boyaca</td>\n",
              "      <td>Centro Oriente</td>\n",
              "      <td>Boyacá</td>\n",
              "      <td>Transporte</td>\n",
              "      <td>Infraestructura Red Vial Regional</td>\n",
              "      <td>Red Vial Terciaria</td>\n",
              "      <td>100.00</td>\n",
              "      <td>99.18</td>\n",
              "      <td>Cerrado</td>\n",
              "      <td>Terminado</td>\n",
              "      <td>2017</td>\n",
              "      <td>513608</td>\n",
              "      <td>0</td>\n",
              "      <td>0</td>\n",
              "      <td>513608</td>\n",
              "      <td>100.0</td>\n",
              "      <td>0.098158</td>\n",
              "      <td>1</td>\n",
              "      <td>1</td>\n",
              "    </tr>\n",
              "    <tr>\n",
              "      <th>42</th>\n",
              "      <td>43</td>\n",
              "      <td>id_699045</td>\n",
              "      <td>ESTUDIOS Y DISEÑOS PARA EL MEJORAMIENTO DE VÍA...</td>\n",
              "      <td>Caldas - La Merced</td>\n",
              "      <td>Eje Cafetero</td>\n",
              "      <td>Caldas</td>\n",
              "      <td>Transporte</td>\n",
              "      <td>Infraestructura Red Vial Regional</td>\n",
              "      <td>Red Vial Terciaria</td>\n",
              "      <td>100.00</td>\n",
              "      <td>100.00</td>\n",
              "      <td>Cerrado</td>\n",
              "      <td>Terminado</td>\n",
              "      <td>2018</td>\n",
              "      <td>22771</td>\n",
              "      <td>0</td>\n",
              "      <td>0</td>\n",
              "      <td>22771</td>\n",
              "      <td>100.0</td>\n",
              "      <td>0.009977</td>\n",
              "      <td>1</td>\n",
              "      <td>1</td>\n",
              "    </tr>\n",
              "    <tr>\n",
              "      <th>46</th>\n",
              "      <td>47</td>\n",
              "      <td>id_290778</td>\n",
              "      <td>MEJORAMIENTO DE VÍAS TERCIARIAS, MEDIANTE EL U...</td>\n",
              "      <td>Región Centro Sur</td>\n",
              "      <td>Centro Sur</td>\n",
              "      <td>Caquetá</td>\n",
              "      <td>Transporte</td>\n",
              "      <td>Infraestructura Red Vial Regional</td>\n",
              "      <td>Red Vial Terciaria</td>\n",
              "      <td>100.00</td>\n",
              "      <td>99.85</td>\n",
              "      <td>Cerrado</td>\n",
              "      <td>Terminado</td>\n",
              "      <td>2017</td>\n",
              "      <td>1276430</td>\n",
              "      <td>3333333</td>\n",
              "      <td>0</td>\n",
              "      <td>4609764</td>\n",
              "      <td>27.7</td>\n",
              "      <td>-0.058914</td>\n",
              "      <td>-1</td>\n",
              "      <td>1</td>\n",
              "    </tr>\n",
              "    <tr>\n",
              "      <th>62</th>\n",
              "      <td>63</td>\n",
              "      <td>id_638485</td>\n",
              "      <td>MEJORAMIENTO DE LA VÍA TERCIARIA LOS MARTÍNEZ ...</td>\n",
              "      <td>Cesar - Chiriguana</td>\n",
              "      <td>Caribe</td>\n",
              "      <td>Cesar</td>\n",
              "      <td>Transporte</td>\n",
              "      <td>Infraestructura Red Vial Regional</td>\n",
              "      <td>Red Vial Terciaria</td>\n",
              "      <td>100.00</td>\n",
              "      <td>99.86</td>\n",
              "      <td>Cerrado</td>\n",
              "      <td>Terminado</td>\n",
              "      <td>2018</td>\n",
              "      <td>2499998</td>\n",
              "      <td>0</td>\n",
              "      <td>0</td>\n",
              "      <td>2499998</td>\n",
              "      <td>100.0</td>\n",
              "      <td>-0.268161</td>\n",
              "      <td>-1</td>\n",
              "      <td>1</td>\n",
              "    </tr>\n",
              "    <tr>\n",
              "      <th>68</th>\n",
              "      <td>69</td>\n",
              "      <td>id_274220</td>\n",
              "      <td>FORTALECIMIENTO SOCIOECONOMICO REGIONAL MEDIAN...</td>\n",
              "      <td>Región Pacífico</td>\n",
              "      <td>Pacifico</td>\n",
              "      <td>Chocó</td>\n",
              "      <td>Transporte</td>\n",
              "      <td>Infraestructura Red Vial Regional</td>\n",
              "      <td>Red Vial Terciaria</td>\n",
              "      <td>100.00</td>\n",
              "      <td>99.99</td>\n",
              "      <td>Cerrado</td>\n",
              "      <td>Terminado</td>\n",
              "      <td>2016</td>\n",
              "      <td>5661035</td>\n",
              "      <td>0</td>\n",
              "      <td>0</td>\n",
              "      <td>5661035</td>\n",
              "      <td>100.0</td>\n",
              "      <td>-0.307725</td>\n",
              "      <td>-1</td>\n",
              "      <td>1</td>\n",
              "    </tr>\n",
              "    <tr>\n",
              "      <th>73</th>\n",
              "      <td>74</td>\n",
              "      <td>id_524370</td>\n",
              "      <td>CONSTRUCCIÓN DE PLACA HUELLA Y REHABILITACIÓN ...</td>\n",
              "      <td>Córdoba - Cotorra</td>\n",
              "      <td>Caribe</td>\n",
              "      <td>Córdoba</td>\n",
              "      <td>Transporte</td>\n",
              "      <td>Infraestructura Red Vial Regional</td>\n",
              "      <td>Red Vial Terciaria</td>\n",
              "      <td>100.00</td>\n",
              "      <td>99.96</td>\n",
              "      <td>Cerrado</td>\n",
              "      <td>Terminado</td>\n",
              "      <td>2018</td>\n",
              "      <td>511333</td>\n",
              "      <td>0</td>\n",
              "      <td>0</td>\n",
              "      <td>511333</td>\n",
              "      <td>100.0</td>\n",
              "      <td>0.098158</td>\n",
              "      <td>1</td>\n",
              "      <td>1</td>\n",
              "    </tr>\n",
              "    <tr>\n",
              "      <th>85</th>\n",
              "      <td>86</td>\n",
              "      <td>id_290740</td>\n",
              "      <td>MEJORAMIENTO DE LA VÍA RURAL DE LAS BOCAS A LO...</td>\n",
              "      <td>Córdoba - Sahagun</td>\n",
              "      <td>Caribe</td>\n",
              "      <td>Córdoba</td>\n",
              "      <td>Transporte</td>\n",
              "      <td>Infraestructura Red Vial Regional</td>\n",
              "      <td>Red Vial Terciaria</td>\n",
              "      <td>100.00</td>\n",
              "      <td>85.94</td>\n",
              "      <td>Cerrado</td>\n",
              "      <td>Terminado</td>\n",
              "      <td>2017</td>\n",
              "      <td>117297</td>\n",
              "      <td>0</td>\n",
              "      <td>10703</td>\n",
              "      <td>128000</td>\n",
              "      <td>91.6</td>\n",
              "      <td>0.112476</td>\n",
              "      <td>1</td>\n",
              "      <td>1</td>\n",
              "    </tr>\n",
              "    <tr>\n",
              "      <th>144</th>\n",
              "      <td>145</td>\n",
              "      <td>id_699129</td>\n",
              "      <td>ADECUACIÓN MEDIANTE LA CONSTRUCCIÓN DE PLACA H...</td>\n",
              "      <td>Nariño - San Pedro De Cartago</td>\n",
              "      <td>Pacifico</td>\n",
              "      <td>Nariño</td>\n",
              "      <td>Transporte</td>\n",
              "      <td>Infraestructura Red Vial Regional</td>\n",
              "      <td>Red Vial Terciaria</td>\n",
              "      <td>100.00</td>\n",
              "      <td>99.82</td>\n",
              "      <td>Cerrado</td>\n",
              "      <td>Terminado</td>\n",
              "      <td>2018</td>\n",
              "      <td>204249</td>\n",
              "      <td>0</td>\n",
              "      <td>0</td>\n",
              "      <td>204249</td>\n",
              "      <td>100.0</td>\n",
              "      <td>0.116256</td>\n",
              "      <td>1</td>\n",
              "      <td>1</td>\n",
              "    </tr>\n",
              "    <tr>\n",
              "      <th>155</th>\n",
              "      <td>156</td>\n",
              "      <td>id_340617</td>\n",
              "      <td>CONSTRUCCIÓN PUENTE VEHICULAR SOBRE EL RIO ALG...</td>\n",
              "      <td>Putumayo - Villagarzon</td>\n",
              "      <td>Centro Sur</td>\n",
              "      <td>Putumayo</td>\n",
              "      <td>Transporte</td>\n",
              "      <td>Infraestructura Red Vial Regional</td>\n",
              "      <td>Red Vial Terciaria</td>\n",
              "      <td>100.00</td>\n",
              "      <td>100.00</td>\n",
              "      <td>Cerrado</td>\n",
              "      <td>Terminado</td>\n",
              "      <td>2017</td>\n",
              "      <td>1166665</td>\n",
              "      <td>0</td>\n",
              "      <td>0</td>\n",
              "      <td>1166665</td>\n",
              "      <td>100.0</td>\n",
              "      <td>0.000000</td>\n",
              "      <td>1</td>\n",
              "      <td>1</td>\n",
              "    </tr>\n",
              "    <tr>\n",
              "      <th>167</th>\n",
              "      <td>168</td>\n",
              "      <td>id_290044</td>\n",
              "      <td>MEJORAMIENTO DE VÍAS TERCIARIAS MEDIANTE EL US...</td>\n",
              "      <td>Santander - Curiti</td>\n",
              "      <td>Centro Oriente</td>\n",
              "      <td>Santander</td>\n",
              "      <td>Transporte</td>\n",
              "      <td>Infraestructura Red Vial Regional</td>\n",
              "      <td>Red Vial Terciaria</td>\n",
              "      <td>100.00</td>\n",
              "      <td>98.30</td>\n",
              "      <td>Cerrado</td>\n",
              "      <td>Terminado</td>\n",
              "      <td>2017</td>\n",
              "      <td>159688</td>\n",
              "      <td>0</td>\n",
              "      <td>66667</td>\n",
              "      <td>226355</td>\n",
              "      <td>70.5</td>\n",
              "      <td>0.101173</td>\n",
              "      <td>1</td>\n",
              "      <td>1</td>\n",
              "    </tr>\n",
              "    <tr>\n",
              "      <th>172</th>\n",
              "      <td>173</td>\n",
              "      <td>id_373384</td>\n",
              "      <td>CONSTRUCCIÓN DE PLACA HUELLA VEHICULAR Y UNA A...</td>\n",
              "      <td>Santander - Galan</td>\n",
              "      <td>Centro Oriente</td>\n",
              "      <td>Santander</td>\n",
              "      <td>Transporte</td>\n",
              "      <td>Infraestructura Red Vial Regional</td>\n",
              "      <td>Red Vial Terciaria</td>\n",
              "      <td>100.00</td>\n",
              "      <td>99.87</td>\n",
              "      <td>Cerrado</td>\n",
              "      <td>Terminado</td>\n",
              "      <td>2017</td>\n",
              "      <td>75055</td>\n",
              "      <td>0</td>\n",
              "      <td>0</td>\n",
              "      <td>75055</td>\n",
              "      <td>100.0</td>\n",
              "      <td>0.116601</td>\n",
              "      <td>1</td>\n",
              "      <td>1</td>\n",
              "    </tr>\n",
              "    <tr>\n",
              "      <th>176</th>\n",
              "      <td>177</td>\n",
              "      <td>id_527400</td>\n",
              "      <td>MEJORAMIENTO  DE LAS VÍAS RURALES QUE CONDUCEN...</td>\n",
              "      <td>Santander - Jesus Maria</td>\n",
              "      <td>Centro Oriente</td>\n",
              "      <td>Santander</td>\n",
              "      <td>Transporte</td>\n",
              "      <td>Infraestructura Red Vial Regional</td>\n",
              "      <td>Red Vial Terciaria</td>\n",
              "      <td>100.00</td>\n",
              "      <td>99.97</td>\n",
              "      <td>Cerrado</td>\n",
              "      <td>Terminado</td>\n",
              "      <td>2018</td>\n",
              "      <td>80667</td>\n",
              "      <td>0</td>\n",
              "      <td>52516</td>\n",
              "      <td>133182</td>\n",
              "      <td>60.6</td>\n",
              "      <td>0.130833</td>\n",
              "      <td>1</td>\n",
              "      <td>1</td>\n",
              "    </tr>\n",
              "    <tr>\n",
              "      <th>177</th>\n",
              "      <td>178</td>\n",
              "      <td>id_592352</td>\n",
              "      <td>MEJORAMIENTO Y CONSERVACIÓN DE LA VÍA ALTERNA ...</td>\n",
              "      <td>Santander - Los Santos</td>\n",
              "      <td>Centro Oriente</td>\n",
              "      <td>Santander</td>\n",
              "      <td>Transporte</td>\n",
              "      <td>Infraestructura Red Vial Regional</td>\n",
              "      <td>Red Vial Terciaria</td>\n",
              "      <td>100.00</td>\n",
              "      <td>97.45</td>\n",
              "      <td>Cerrado</td>\n",
              "      <td>Terminado</td>\n",
              "      <td>2018</td>\n",
              "      <td>67510</td>\n",
              "      <td>0</td>\n",
              "      <td>260833</td>\n",
              "      <td>328343</td>\n",
              "      <td>20.6</td>\n",
              "      <td>0.104659</td>\n",
              "      <td>1</td>\n",
              "      <td>1</td>\n",
              "    </tr>\n",
              "    <tr>\n",
              "      <th>178</th>\n",
              "      <td>179</td>\n",
              "      <td>id_499103</td>\n",
              "      <td>CONSTRUCCIÓN PLACA HUELLA EN CONCRETO RIGIDO D...</td>\n",
              "      <td>Santander - Palmar</td>\n",
              "      <td>Centro Oriente</td>\n",
              "      <td>Santander</td>\n",
              "      <td>Transporte</td>\n",
              "      <td>Infraestructura Red Vial Regional</td>\n",
              "      <td>Red Vial Terciaria</td>\n",
              "      <td>100.00</td>\n",
              "      <td>98.21</td>\n",
              "      <td>Cerrado</td>\n",
              "      <td>Terminado</td>\n",
              "      <td>2018</td>\n",
              "      <td>36109</td>\n",
              "      <td>0</td>\n",
              "      <td>19282</td>\n",
              "      <td>55391</td>\n",
              "      <td>65.2</td>\n",
              "      <td>0.047657</td>\n",
              "      <td>1</td>\n",
              "      <td>1</td>\n",
              "    </tr>\n",
              "    <tr>\n",
              "      <th>182</th>\n",
              "      <td>183</td>\n",
              "      <td>id_276911</td>\n",
              "      <td>CONSTRUCCIÓN DE PLACAS HUELLAS EN CONCRETO PAR...</td>\n",
              "      <td>Santander - Rionegro</td>\n",
              "      <td>Centro Oriente</td>\n",
              "      <td>Santander</td>\n",
              "      <td>Transporte</td>\n",
              "      <td>Infraestructura Red Vial Regional</td>\n",
              "      <td>Red Vial Terciaria</td>\n",
              "      <td>100.00</td>\n",
              "      <td>99.72</td>\n",
              "      <td>Cerrado</td>\n",
              "      <td>Terminado</td>\n",
              "      <td>2017</td>\n",
              "      <td>354452</td>\n",
              "      <td>0</td>\n",
              "      <td>0</td>\n",
              "      <td>354452</td>\n",
              "      <td>100.0</td>\n",
              "      <td>0.084074</td>\n",
              "      <td>1</td>\n",
              "      <td>1</td>\n",
              "    </tr>\n",
              "    <tr>\n",
              "      <th>189</th>\n",
              "      <td>190</td>\n",
              "      <td>id_277980</td>\n",
              "      <td>MEJORAMIENTO DE LA VIA QUE CONDUCE DE PAJARITO...</td>\n",
              "      <td>Sucre - La Union</td>\n",
              "      <td>Caribe</td>\n",
              "      <td>Sucre</td>\n",
              "      <td>Transporte</td>\n",
              "      <td>Infraestructura Red Vial Regional</td>\n",
              "      <td>Red Vial Terciaria</td>\n",
              "      <td>100.00</td>\n",
              "      <td>99.98</td>\n",
              "      <td>Cerrado</td>\n",
              "      <td>Terminado</td>\n",
              "      <td>2017</td>\n",
              "      <td>345370</td>\n",
              "      <td>0</td>\n",
              "      <td>68000</td>\n",
              "      <td>413370</td>\n",
              "      <td>83.5</td>\n",
              "      <td>0.072705</td>\n",
              "      <td>1</td>\n",
              "      <td>1</td>\n",
              "    </tr>\n",
              "    <tr>\n",
              "      <th>193</th>\n",
              "      <td>194</td>\n",
              "      <td>id_352779</td>\n",
              "      <td>MEJORAMIENTO MANTENIMIENTO Y CONSERVACIÓN DE L...</td>\n",
              "      <td>Sucre - San Marcos</td>\n",
              "      <td>Caribe</td>\n",
              "      <td>Sucre</td>\n",
              "      <td>Transporte</td>\n",
              "      <td>Infraestructura Red Vial Regional</td>\n",
              "      <td>Red Vial Terciaria</td>\n",
              "      <td>100.00</td>\n",
              "      <td>99.93</td>\n",
              "      <td>Cerrado</td>\n",
              "      <td>Terminado</td>\n",
              "      <td>2017</td>\n",
              "      <td>1162151</td>\n",
              "      <td>0</td>\n",
              "      <td>0</td>\n",
              "      <td>1162151</td>\n",
              "      <td>100.0</td>\n",
              "      <td>0.000000</td>\n",
              "      <td>1</td>\n",
              "      <td>1</td>\n",
              "    </tr>\n",
              "    <tr>\n",
              "      <th>198</th>\n",
              "      <td>199</td>\n",
              "      <td>id_276063</td>\n",
              "      <td>MEJORAMIENTO DE VÍAS TERCIARIAS MEDIANTE EL US...</td>\n",
              "      <td>Tolima - Purificacion</td>\n",
              "      <td>Centro Sur</td>\n",
              "      <td>Tolima</td>\n",
              "      <td>Transporte</td>\n",
              "      <td>Infraestructura Red Vial Regional</td>\n",
              "      <td>Red Vial Terciaria</td>\n",
              "      <td>99.83</td>\n",
              "      <td>99.87</td>\n",
              "      <td>Cerrado</td>\n",
              "      <td>Terminado</td>\n",
              "      <td>2016</td>\n",
              "      <td>453401</td>\n",
              "      <td>0</td>\n",
              "      <td>0</td>\n",
              "      <td>453401</td>\n",
              "      <td>100.0</td>\n",
              "      <td>0.084113</td>\n",
              "      <td>1</td>\n",
              "      <td>1</td>\n",
              "    </tr>\n",
              "  </tbody>\n",
              "</table>\n",
              "</div>"
            ],
            "text/plain": [
              "     Unnamed: 0 id_proyecto  ... anomalo outlier\n",
              "13           14  id_1011939  ...       1       1\n",
              "19           20   id_324697  ...      -1       1\n",
              "20           21   id_625428  ...       1       1\n",
              "22           23   id_812308  ...       1       1\n",
              "23           24  id_1028007  ...       1       1\n",
              "27           28   id_370367  ...       1       1\n",
              "28           29   id_277866  ...       1       1\n",
              "29           30   id_355264  ...       1       1\n",
              "42           43   id_699045  ...       1       1\n",
              "46           47   id_290778  ...      -1       1\n",
              "62           63   id_638485  ...      -1       1\n",
              "68           69   id_274220  ...      -1       1\n",
              "73           74   id_524370  ...       1       1\n",
              "85           86   id_290740  ...       1       1\n",
              "144         145   id_699129  ...       1       1\n",
              "155         156   id_340617  ...       1       1\n",
              "167         168   id_290044  ...       1       1\n",
              "172         173   id_373384  ...       1       1\n",
              "176         177   id_527400  ...       1       1\n",
              "177         178   id_592352  ...       1       1\n",
              "178         179   id_499103  ...       1       1\n",
              "182         183   id_276911  ...       1       1\n",
              "189         190   id_277980  ...       1       1\n",
              "193         194   id_352779  ...       1       1\n",
              "198         199   id_276063  ...       1       1\n",
              "\n",
              "[25 rows x 22 columns]"
            ]
          },
          "metadata": {
            "tags": []
          },
          "execution_count": 67
        }
      ]
    },
    {
      "cell_type": "markdown",
      "metadata": {
        "id": "9fKNUUlejRnB"
      },
      "source": [
        "**3. a) El número de proyectos que coinciden con el 10% de los proyectos con layor LOF es: 21**"
      ]
    }
  ]
}